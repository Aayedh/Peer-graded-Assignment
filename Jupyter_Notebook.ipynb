{
 "cells": [
  {
   "cell_type": "markdown",
   "metadata": {},
   "source": [
    "<center>\n",
    "    <img src=\"https://cf-courses-data.s3.us.cloud-object-storage.appdomain.cloud/IBMDeveloperSkillsNetwork-DS0105EN-SkillsNetwork/labs/Module2/images/SN_web_lightmode.png\" width=\"300\" alt=\"cognitiveclass.ai logo\">\n",
    "</center>\n"
   ]
  },
  {
   "cell_type": "markdown",
   "metadata": {},
   "source": [
    "#### Add your code below following the instructions given in the course\n"
   ]
  },
  {
   "cell_type": "markdown",
   "metadata": {},
   "source": [
    "# Peer-graded Assignment"
   ]
  },
  {
   "cell_type": "markdown",
   "metadata": {},
   "source": [
    "## Introduction"
   ]
  },
  {
   "cell_type": "markdown",
   "metadata": {},
   "source": [
    "<u>List data science languages: \n",
    "</u>\n",
    "- Python\n",
    "- SQL\n",
    "- R\n",
    "- Julia\n",
    "- JavaScript\n",
    "- Scala\n",
    "- Java"
   ]
  },
  {
   "cell_type": "markdown",
   "metadata": {},
   "source": [
    "<u>List data science libraries \n",
    "</u>\n",
    "- Pandas Python\n",
    "- NumPy  Python\n",
    "- Dplyr R\n"
   ]
  },
  {
   "cell_type": "markdown",
   "metadata": {},
   "source": [
    "| Tool Name | Programming Language | |\n",
    "| --- | --- | --- |\n",
    "| Python | Python |  |\n",
    "| R | R |  |\n",
    "| SQL | SQL |  |\n",
    "| Excel | n/a|  |\n",
    "| Tableau | n/a|  |\n",
    "\n",
    "\n",
    "\n",
    "\n"
   ]
  },
  {
   "cell_type": "markdown",
   "metadata": {},
   "source": [
    "Introducing examples of arithmetic expressions\n",
    "\n",
    "- This arithmetic expression represents the  sum of 4 and 4. The * symbol is the addition operator. 4 + 4\n",
    "- This arithmetic expression represents the product of 4 and 4. The * symbol is the multiplication operator. 4 * 4\n"
   ]
  },
  {
   "cell_type": "code",
   "execution_count": 5,
   "metadata": {},
   "outputs": [
    {
     "name": "stdout",
     "output_type": "stream",
     "text": [
      "10\n"
     ]
    }
   ],
   "source": [
    "# multiply and add numbers\n",
    "a = 3\n",
    "b = 2\n",
    "\n",
    "\n",
    "# add a to b and store the result in d\n",
    "d = a + b\n",
    "\n",
    "# multiply b by c and store the result in e\n",
    "e = b * d\n",
    "\n",
    "print(e)"
   ]
  },
  {
   "cell_type": "code",
   "execution_count": 7,
   "metadata": {},
   "outputs": [
    {
     "name": "stdout",
     "output_type": "stream",
     "text": [
      "6.0\n"
     ]
    }
   ],
   "source": [
    "# convert minutes to hours\n",
    "minutes = 360\n",
    "\n",
    "# calculate hours by dividing minutes by 60\n",
    "hours = minutes / 60\n",
    "\n",
    "# print the result\n",
    "print(hours)\n"
   ]
  },
  {
   "cell_type": "markdown",
   "metadata": {},
   "source": [
    "## The objectives of this assignment:\n",
    "- To practice creating different format in Markdown.\n",
    "- To practice simple coding.\n",
    "- To practice sharing in github."
   ]
  },
  {
   "cell_type": "markdown",
   "metadata": {},
   "source": [
    "### Author Name: Abdullah Mohammed Ayedh"
   ]
  }
 ],
 "metadata": {
  "kernelspec": {
   "display_name": "Python",
   "language": "python",
   "name": "conda-env-python-py"
  },
  "language_info": {
   "codemirror_mode": {
    "name": "ipython",
    "version": 3
   },
   "file_extension": ".py",
   "mimetype": "text/x-python",
   "name": "python",
   "nbconvert_exporter": "python",
   "pygments_lexer": "ipython3",
   "version": "3.7.12"
  }
 },
 "nbformat": 4,
 "nbformat_minor": 4
}
